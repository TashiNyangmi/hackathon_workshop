{
 "cells": [
  {
   "cell_type": "code",
   "execution_count": null,
   "metadata": {
    "id": "0SuEoF4MTkUB"
   },
   "outputs": [],
   "source": [
    "# @ author: tashi.gurung@baruchmail.cuny.edu\n",
    "# @ date: 01/20/2021"
   ]
  },
  {
   "cell_type": "code",
   "execution_count": null,
   "metadata": {
    "id": "2vZinIfbcQA2"
   },
   "outputs": [],
   "source": [
    "# dataset downloaded from: https://www.kaggle.com/shivamb/netflix-shows"
   ]
  },
  {
   "cell_type": "markdown",
   "metadata": {
    "id": "sl6YzX9JRSWy"
   },
   "source": [
    "### COMMENTS\n",
    "Everything that follows '#' in a line is a comment, and is not treated as code"
   ]
  },
  {
   "cell_type": "markdown",
   "metadata": {},
   "source": [
    "### Table of Contents:\n",
    "<ol>\n",
    "    <li>Importing Libraries </li>\n",
    "    <li>Importing Dataset </li>\n",
    "    <li> Exploratory Data Analysis \n",
    "        <ol>\n",
    "            <li>Head/Tail</li>\n",
    "            <li>Selecting a column</li>\n",
    "            <li>Null Values</li>\n",
    "            <li>value_counts and str.contains()</li>\n",
    "            <li>movie vs tv_shows\n",
    "                <ol>\n",
    "                    <li> histplot</li>\n",
    "                    <li> boxplot</li>\n",
    "                </ol>\n",
    "             </li>\n",
    "         </ol>\n",
    "    </li>\n",
    "    <li> Some Resources </li>\n",
    "</ol>"
   ]
  },
  {
   "cell_type": "markdown",
   "metadata": {
    "id": "KurB-UDqYI7j"
   },
   "source": [
    "---\n",
    "\n",
    "# 1. Importing Libraries"
   ]
  },
  {
   "cell_type": "markdown",
   "metadata": {
    "id": "l4BUf47HR-pe"
   },
   "source": [
    "### What is a library?\n",
    "*   Collection of related functions\n",
    "*   Eliminates the need to start from scratch\n",
    "*   Also known as package\n",
    "\n",
    "For example: <br>\n",
    "the **rand()** is a function within the module: random from the library: NumPy\n"
   ]
  },
  {
   "cell_type": "code",
   "execution_count": null,
   "metadata": {
    "colab": {
     "base_uri": "https://localhost:8080/"
    },
    "id": "qmuta-G7UEbE",
    "outputId": "d26a8f4a-3174-4c85-8eae-0ca8d55cfed0"
   },
   "outputs": [],
   "source": [
    "np.random.rand()"
   ]
  },
  {
   "cell_type": "markdown",
   "metadata": {},
   "source": [
    "Did you get an error? *'np' is not defined* <br>\n",
    "Try running the cell that imports the necessary library"
   ]
  },
  {
   "cell_type": "markdown",
   "metadata": {
    "id": "LSRO8LubSs1o"
   },
   "source": [
    "### Alias\n",
    "*   importing libraries and we are setting code names (alias) for each of them\n",
    "*   code is cleaner\n",
    "*   the alias is a variable and can be set to something else but there are widely accepted conventions "
   ]
  },
  {
   "cell_type": "code",
   "execution_count": null,
   "metadata": {
    "id": "aZdtrNS9TuiJ"
   },
   "outputs": [],
   "source": [
    "import pandas as pd # for data manipulation and analysis, especially for tabular data\n",
    "import numpy as np  # for array and matrice operations\n",
    "\n",
    "import matplotlib.pyplot as plt # base data visualization\n",
    "import seaborn as sns # build on top of matplotlib"
   ]
  },
  {
   "cell_type": "markdown",
   "metadata": {
    "id": "zgQ_VakRN_if"
   },
   "source": [
    "---\n",
    "\n",
    "# 2. Importing our Data Set\n",
    "**pd** is the alias for the Library: **pandas** <br>\n",
    "the \".\" (period) allows us to access the functions within the Library: **pandas** <br> \n",
    "**read_csv()** function belongs to the Library: **pandas** <br>\n",
    "**read_csv()** function allows us to import datasets from your computer as well as an online source.\n",
    "\n"
   ]
  },
  {
   "cell_type": "markdown",
   "metadata": {},
   "source": [
    "### TASK : 1\n",
    "Instructions: Assign pd.read_csv(source) to df"
   ]
  },
  {
   "cell_type": "code",
   "execution_count": null,
   "metadata": {},
   "outputs": [],
   "source": [
    "source = 'https://raw.githubusercontent.com/TashiNyangmi/hackathon_workshop/main/data/netflix_titles.csv'"
   ]
  },
  {
   "cell_type": "code",
   "execution_count": null,
   "metadata": {
    "id": "kE2zN-gcgcV_"
   },
   "outputs": [],
   "source": [
    "__ = pd.read_csv(source)"
   ]
  },
  {
   "cell_type": "markdown",
   "metadata": {
    "id": "CcL_jg6DPLWK"
   },
   "source": [
    "**pd.read_csv** reads the dataset from the source and returns what is called a **DataFrame** in pandas. <br>\n",
    "**DataFrames** have built-in functions useful for data manipulation and analysis. <br>"
   ]
  },
  {
   "cell_type": "markdown",
   "metadata": {},
   "source": [
    "***In-depth***: <br>\n",
    "DataFrames are collection of series that share a common index. <br>\n",
    "What is a series? What is an index?  <br>\n",
    "Series is a one-dimensional labeled array capable of holding data of any type (integer, string, float, python objects, etc.). The axis labels are collectively called index. <br>\n",
    "In pandas, each column of a DataFrame is a series <br>\n",
    "Try running the following: <br>\n",
    "type ( df [ 'title' ] ) <br>\n",
    "in a code cell (including type()) <br>\n",
    "The **type()** returns the type of a given object.\n",
    "\n",
    "---"
   ]
  },
  {
   "cell_type": "markdown",
   "metadata": {},
   "source": [
    "# 3. EDA (Exploratory Data Analysis)"
   ]
  },
  {
   "cell_type": "markdown",
   "metadata": {
    "id": "uji46PUVPrfW"
   },
   "source": [
    "### A. Heads or Tails\n",
    "**.head()** and **.tail()** functions displays the first 5 (by default), and the last 5 (by default) rows of a table <br>"
   ]
  },
  {
   "cell_type": "markdown",
   "metadata": {},
   "source": [
    "***In-depth*** : <br>\n",
    "try head(n = 10) or any other number <br>\n",
    "do the same with tail( )"
   ]
  },
  {
   "cell_type": "code",
   "execution_count": null,
   "metadata": {
    "colab": {
     "base_uri": "https://localhost:8080/",
     "height": 289
    },
    "id": "Ytz_Qvu2N8Ry",
    "outputId": "250325e7-925e-49c1-9d19-d7f829bbb93e"
   },
   "outputs": [],
   "source": [
    "df.head()"
   ]
  },
  {
   "cell_type": "markdown",
   "metadata": {},
   "source": [
    "### Task 2:\n",
    "Instructions: display the tail of the DataFrame:df"
   ]
  },
  {
   "cell_type": "code",
   "execution_count": null,
   "metadata": {
    "colab": {
     "base_uri": "https://localhost:8080/",
     "height": 323
    },
    "id": "Pe4TTc2DPxxD",
    "outputId": "9624db4f-4701-4dce-ebb8-eff67d8f88ca"
   },
   "outputs": [],
   "source": [
    "df.____()"
   ]
  },
  {
   "cell_type": "markdown",
   "metadata": {},
   "source": [
    "Python follows 0 indexing, which means the first item starts at 0 and not 1"
   ]
  },
  {
   "cell_type": "markdown",
   "metadata": {},
   "source": [
    "***In-depth***:\n",
    ".reset_index(), replaces the index that starts at 0 <br>\n",
    "drop = True, deletes the original index <br>\n",
    "inplace = True, saves the changes to the original dataframe <br>"
   ]
  },
  {
   "cell_type": "code",
   "execution_count": null,
   "metadata": {},
   "outputs": [],
   "source": [
    "df.reset_index(drop = True, inplace = True)"
   ]
  },
  {
   "cell_type": "markdown",
   "metadata": {
    "id": "tdKAlU2sQ5HP"
   },
   "source": [
    "**.info()** displays the non-null count, and data type of each column"
   ]
  },
  {
   "cell_type": "markdown",
   "metadata": {},
   "source": [
    "### Task 3:\n",
    "Instructions: run df.info()"
   ]
  },
  {
   "cell_type": "code",
   "execution_count": null,
   "metadata": {
    "colab": {
     "base_uri": "https://localhost:8080/"
    },
    "id": "s3_TM0fPQgqU",
    "outputId": "bf9e6fb4-bf53-44cb-912d-73c39dcaf626"
   },
   "outputs": [],
   "source": [
    "df.____()"
   ]
  },
  {
   "cell_type": "markdown",
   "metadata": {
    "id": "mfbr3Uh-Qnvw"
   },
   "source": [
    "**Dtype** refers to Data Type <br>\n",
    "**Object's** are most likely strings <br>\n",
    "**int64** is integer"
   ]
  },
  {
   "cell_type": "markdown",
   "metadata": {},
   "source": [
    "**OBSERVATION** <br>\n",
    "* look at the second line, we have 7787 rows\n",
    "* however, for some columns, we have less than 7787 non-null values\n",
    "* it means we have some null values"
   ]
  },
  {
   "cell_type": "markdown",
   "metadata": {},
   "source": [
    "**Next step:** Select column: *director*, column: *cast*, column: *country*, and column: *rating* and drop the null values"
   ]
  },
  {
   "cell_type": "markdown",
   "metadata": {},
   "source": [
    "### B. Selecting a column"
   ]
  },
  {
   "cell_type": "markdown",
   "metadata": {},
   "source": [
    "* Select one columns <br>\n",
    "syntax: DataFrame['col1']  <br>\n",
    "<br>\n",
    "* Select multiple columns <br>\n",
    "syntax: DataFrame[ ['col1', 'col2', 'col3'] ]<br>\n",
    "<br>\n",
    "\n",
    "***In-depth***: <br>\n",
    "* Try assigning a list of column names to a variable\n",
    "* Use that variable with DataFrame to select those columns\n",
    "* For eg, <br>\n",
    "cols = [ 'country', 'date_added' ] <br>\n",
    "df [ cols ]\n",
    "\n",
    "* try displaying only the head of the returned DataFrame"
   ]
  },
  {
   "cell_type": "markdown",
   "metadata": {},
   "source": [
    "### Task 3:\n",
    "Instructions:\n",
    "* Select and display the column: country\n",
    "* Select and display the column: country and column: date_added, NOTE: make sure you use [ [ ] ]\n"
   ]
  },
  {
   "cell_type": "code",
   "execution_count": null,
   "metadata": {},
   "outputs": [],
   "source": [
    "df['_____'] # one column"
   ]
  },
  {
   "cell_type": "code",
   "execution_count": null,
   "metadata": {},
   "outputs": [],
   "source": [
    "df[['country', '____']] # multiple column"
   ]
  },
  {
   "cell_type": "markdown",
   "metadata": {},
   "source": [
    "***In-depth***: <br>\n",
    "While selecting one column, <br>\n",
    "df.country also works, but df [ 'country' ] is preferred. <br>\n",
    "As discussed before, df [ 'country' ] is a series, and we can run all functions and methods built for series on it. <br>"
   ]
  },
  {
   "cell_type": "markdown",
   "metadata": {},
   "source": [
    "**.columns** method displays the list of columns"
   ]
  },
  {
   "cell_type": "code",
   "execution_count": null,
   "metadata": {},
   "outputs": [],
   "source": [
    "df.columns # displays the list of columns"
   ]
  },
  {
   "cell_type": "markdown",
   "metadata": {},
   "source": [
    "**Next step:**  Now we know how to select columns, let us look for null/missing value in that particular column"
   ]
  },
  {
   "cell_type": "markdown",
   "metadata": {},
   "source": [
    "---\n",
    "\n",
    "### C. Null Values"
   ]
  },
  {
   "cell_type": "markdown",
   "metadata": {},
   "source": [
    "**.isna()** function checks each row an returns a **boolean value** <br>\n",
    "What is a boolean value? <br> \n",
    "Answer: True/False (1/0) <br>"
   ]
  },
  {
   "cell_type": "markdown",
   "metadata": {},
   "source": [
    "### Task 4:\n",
    "Instructions: <br>\n",
    "Find the rows with missing values for column **director**"
   ]
  },
  {
   "cell_type": "code",
   "execution_count": null,
   "metadata": {},
   "outputs": [],
   "source": [
    "df['____'].isna() # returns a list of boolean values"
   ]
  },
  {
   "cell_type": "markdown",
   "metadata": {},
   "source": [
    "How is this useful?"
   ]
  },
  {
   "cell_type": "markdown",
   "metadata": {},
   "source": [
    "**.sum()** adds all the values in 'list'"
   ]
  },
  {
   "cell_type": "markdown",
   "metadata": {},
   "source": [
    "### Task 5:\n",
    "Instructions: <br>\n",
    "add .sum() to the end of the following code <br>\n",
    "don't forget the period character \".\""
   ]
  },
  {
   "cell_type": "code",
   "execution_count": null,
   "metadata": {
    "colab": {
     "base_uri": "https://localhost:8080/"
    },
    "id": "v6Q_Gde-iQv-",
    "outputId": "7beeaba9-7052-4fa9-a4dd-6bfbfc513c47"
   },
   "outputs": [],
   "source": [
    "df['director'].isna()___ # how does it add True and Falses?"
   ]
  },
  {
   "cell_type": "markdown",
   "metadata": {},
   "source": [
    "### Task 6:\n",
    "Instructions: <br>\n",
    "Find the rows with missing values for all columns"
   ]
  },
  {
   "cell_type": "code",
   "execution_count": null,
   "metadata": {},
   "outputs": [],
   "source": [
    "df['director'].isna() # hint: delete ['director'] to select the entire DataFrame(table)"
   ]
  },
  {
   "cell_type": "markdown",
   "metadata": {},
   "source": [
    "Task: Display the sum of missing value for all columns"
   ]
  },
  {
   "cell_type": "code",
   "execution_count": null,
   "metadata": {},
   "outputs": [],
   "source": [
    "df.isna().___() # remember the .sum() function"
   ]
  },
  {
   "cell_type": "code",
   "execution_count": null,
   "metadata": {},
   "outputs": [],
   "source": [
    "df.info()"
   ]
  },
  {
   "cell_type": "code",
   "execution_count": null,
   "metadata": {},
   "outputs": [],
   "source": [
    "# total values(rows) - non-null values"
   ]
  },
  {
   "cell_type": "code",
   "execution_count": null,
   "metadata": {},
   "outputs": [],
   "source": [
    "7787 - 5398"
   ]
  },
  {
   "cell_type": "markdown",
   "metadata": {},
   "source": [
    "2389 true values (1) , which means 2389 rows are missing data for the column: director"
   ]
  },
  {
   "cell_type": "markdown",
   "metadata": {},
   "source": [
    "But, we can find the missing value directly, why do we need all of this?"
   ]
  },
  {
   "cell_type": "code",
   "execution_count": null,
   "metadata": {},
   "outputs": [],
   "source": [
    "missing = df['director'].isna()"
   ]
  },
  {
   "cell_type": "code",
   "execution_count": null,
   "metadata": {},
   "outputs": [],
   "source": [
    "missing"
   ]
  },
  {
   "cell_type": "markdown",
   "metadata": {},
   "source": [
    "### Task 7:\n",
    "Instructions: <br>\n",
    "Find the rows with missing values for all columns\n",
    "What is the datatype of the variable: missing? <br>\n",
    "Hint: use type()"
   ]
  },
  {
   "cell_type": "code",
   "execution_count": null,
   "metadata": {},
   "outputs": [],
   "source": [
    "___(missing)"
   ]
  },
  {
   "cell_type": "markdown",
   "metadata": {},
   "source": [
    "### Task 8:\n",
    "Instructions: <br>\n",
    "Run and observe the results of the following code"
   ]
  },
  {
   "cell_type": "code",
   "execution_count": null,
   "metadata": {},
   "outputs": [],
   "source": [
    "df[missing] # only return the rows for which missing is True"
   ]
  },
  {
   "cell_type": "code",
   "execution_count": null,
   "metadata": {},
   "outputs": [],
   "source": [
    "df[~missing] # Inverts all the bits"
   ]
  },
  {
   "cell_type": "code",
   "execution_count": null,
   "metadata": {},
   "outputs": [],
   "source": [
    "df = df[~missing]"
   ]
  },
  {
   "cell_type": "code",
   "execution_count": null,
   "metadata": {},
   "outputs": [],
   "source": [
    "df['director'].isna().sum()"
   ]
  },
  {
   "cell_type": "code",
   "execution_count": null,
   "metadata": {},
   "outputs": [],
   "source": [
    "df.info()"
   ]
  },
  {
   "cell_type": "markdown",
   "metadata": {},
   "source": [
    "What about the other columns? Do we repeat the process?"
   ]
  },
  {
   "cell_type": "markdown",
   "metadata": {},
   "source": [
    "**.dropna()** <br>\n",
    "**pandas** actually has a function that drops all rows with any missing data"
   ]
  },
  {
   "cell_type": "code",
   "execution_count": null,
   "metadata": {
    "id": "k1GpySLcjMvx"
   },
   "outputs": [],
   "source": [
    "df = df.dropna()"
   ]
  },
  {
   "cell_type": "markdown",
   "metadata": {},
   "source": [
    "***In-depth***: <br>\n",
    "Instead of df = df.dropna(), we can use <br>\n",
    "df.dropna(inplace = True)<br>\n",
    "the argument inplace = True drops the rows with missing values in the original DataFrame. <br>\n",
    "Missing values are a big deal in the Data Science process. <br>\n",
    "Simply dropping missing values is not a good approach. <br>\n",
    "There are many ways to deal with missing values depending on the situation."
   ]
  },
  {
   "cell_type": "code",
   "execution_count": null,
   "metadata": {
    "colab": {
     "base_uri": "https://localhost:8080/"
    },
    "id": "ejFURdetM6Uu",
    "outputId": "dc867e4f-7b73-4ea2-94b2-0cfa4b624a5a"
   },
   "outputs": [],
   "source": [
    "df.isna().sum()"
   ]
  },
  {
   "cell_type": "code",
   "execution_count": null,
   "metadata": {},
   "outputs": [],
   "source": [
    "df.info()"
   ]
  },
  {
   "cell_type": "markdown",
   "metadata": {},
   "source": [
    "***In - depth***: <br>\n",
    "We can use **len(df)** for number of rows <br>\n",
    "**df.shape** for number of rows and columns <br>\n",
    "**df.dtypes** for datatype of each column <br>"
   ]
  },
  {
   "cell_type": "markdown",
   "metadata": {},
   "source": [
    "---"
   ]
  },
  {
   "cell_type": "markdown",
   "metadata": {},
   "source": [
    "### D. value_counts and .str.contains()"
   ]
  },
  {
   "cell_type": "code",
   "execution_count": null,
   "metadata": {},
   "outputs": [],
   "source": [
    "df.head()"
   ]
  },
  {
   "cell_type": "markdown",
   "metadata": {},
   "source": [
    "**.value_counts()** <br>\n",
    "function counts the number of unique items in a series [ column of a DataFrame ] <br>\n",
    "and lists them in descending order (starting with the biggest)\n",
    "\n",
    "***In - depth***: <br>\n",
    "use the argument normalize = True <br>\n",
    "to get proportional values, instead of absolute values <br>\n",
    "df [ 'type' ].value_counts(normalize = True)"
   ]
  },
  {
   "cell_type": "code",
   "execution_count": null,
   "metadata": {
    "colab": {
     "base_uri": "https://localhost:8080/"
    },
    "id": "p20EuLqwhgJ8",
    "outputId": "b341b86f-07c1-4126-c486-778b26a1ee30"
   },
   "outputs": [],
   "source": [
    "df['type'].value_counts()"
   ]
  },
  {
   "cell_type": "markdown",
   "metadata": {},
   "source": [
    "### Task 9:\n",
    "Instructions: <br>\n",
    "Use **.value_counts()** with the column:*country*"
   ]
  },
  {
   "cell_type": "code",
   "execution_count": null,
   "metadata": {
    "colab": {
     "base_uri": "https://localhost:8080/"
    },
    "id": "5rD_aro4hydA",
    "outputId": "2efc0558-4f39-4b4d-b8f2-69d61ac86e33"
   },
   "outputs": [],
   "source": [
    "df['country'].value_counts()"
   ]
  },
  {
   "cell_type": "markdown",
   "metadata": {},
   "source": [
    "**.str** allows us to use string funcitons on the entire column<br>\n",
    "**.contains()** allows us checks whether a string contains the given string "
   ]
  },
  {
   "cell_type": "code",
   "execution_count": 14,
   "metadata": {},
   "outputs": [],
   "source": [
    "bool_mask = df['country'].str.contains('United States') # returns an array of yes/no (1/0)"
   ]
  },
  {
   "cell_type": "markdown",
   "metadata": {},
   "source": [
    "### Task 10:\n",
    "Instructions: <br>\n",
    "Display bool_mask"
   ]
  },
  {
   "cell_type": "code",
   "execution_count": 17,
   "metadata": {
    "collapsed": true
   },
   "outputs": [
    {
     "data": {
      "text/plain": [
       "0       False\n",
       "1       False\n",
       "2       False\n",
       "3        True\n",
       "4        True\n",
       "        ...  \n",
       "7782    False\n",
       "7783    False\n",
       "7784      NaN\n",
       "7785    False\n",
       "7786     True\n",
       "Name: country, Length: 7787, dtype: object"
      ]
     },
     "execution_count": 17,
     "metadata": {},
     "output_type": "execute_result"
    }
   ],
   "source": [
    "print(____)"
   ]
  },
  {
   "cell_type": "code",
   "execution_count": null,
   "metadata": {
    "colab": {
     "base_uri": "https://localhost:8080/"
    },
    "id": "5R1Z2AjIh54F",
    "outputId": "50e1487e-2af1-406c-f98b-0ebde502f416"
   },
   "outputs": [],
   "source": [
    "df[bool_mask]['country'].value_counts()"
   ]
  },
  {
   "cell_type": "markdown",
   "metadata": {},
   "source": [
    "## F. Movie vs TV Show"
   ]
  },
  {
   "cell_type": "code",
   "execution_count": null,
   "metadata": {},
   "outputs": [],
   "source": [
    "bool_mask = df['type'] == \"Movie\""
   ]
  },
  {
   "cell_type": "code",
   "execution_count": null,
   "metadata": {},
   "outputs": [],
   "source": [
    "movie_df = df[____].copy()"
   ]
  },
  {
   "cell_type": "markdown",
   "metadata": {},
   "source": [
    "***In-depth***: <br>\n",
    "you can also use .query () to filter data <br>\n",
    "Syntax: <br>\n",
    "Dataframe.query('column_name == \"StringValue\" ' ) <br>\n",
    "E.g., <br>\n",
    "df.query('type == \"Movie\"')\n"
   ]
  },
  {
   "cell_type": "code",
   "execution_count": null,
   "metadata": {},
   "outputs": [],
   "source": [
    "movie_df.head()"
   ]
  },
  {
   "cell_type": "code",
   "execution_count": null,
   "metadata": {},
   "outputs": [],
   "source": [
    "movie_df['min'] =  [movie_df['duration'][row].split(' ')[0] for row in movie_df.index]\n",
    "# for further info look up list comprehension"
   ]
  },
  {
   "cell_type": "code",
   "execution_count": null,
   "metadata": {},
   "outputs": [],
   "source": [
    "movie_df.head()"
   ]
  },
  {
   "cell_type": "markdown",
   "metadata": {},
   "source": [
    "---\n",
    "\n",
    "**pd.to_numeric()** <br>\n",
    "converts the datatype of a column to_numeric"
   ]
  },
  {
   "cell_type": "markdown",
   "metadata": {},
   "source": [
    "### Task 11:\n",
    "Instructions: <br>\n",
    "Check the datatype of movie_df['min'] using type()"
   ]
  },
  {
   "cell_type": "code",
   "execution_count": null,
   "metadata": {},
   "outputs": [],
   "source": [
    "____ (movie_df['min'])"
   ]
  },
  {
   "cell_type": "markdown",
   "metadata": {},
   "source": [
    "### Task 12:\n",
    "Instructions: <br>\n",
    "convert the datatype of column:*min* of DataFrame: *movie_df* to numeric using **pd.to_numeric ( df [ 'col' ])**"
   ]
  },
  {
   "cell_type": "code",
   "execution_count": null,
   "metadata": {},
   "outputs": [],
   "source": [
    "movie_df['min'] = pd.______(movie_df['min']) # convert the data type to numeric"
   ]
  },
  {
   "cell_type": "markdown",
   "metadata": {},
   "source": [
    "### Task 13:\n",
    "Instructions: <br>\n",
    "Check the datatype of movie_df['min'] again"
   ]
  },
  {
   "cell_type": "markdown",
   "metadata": {},
   "source": [
    "***In-depth***: <br>\n",
    "Try to create a hour column"
   ]
  },
  {
   "cell_type": "code",
   "execution_count": null,
   "metadata": {},
   "outputs": [],
   "source": [
    "movie_df['hour'] = round(movie_df['min']/60 , 2) # round () rounds the decimal points"
   ]
  },
  {
   "cell_type": "code",
   "execution_count": null,
   "metadata": {},
   "outputs": [],
   "source": [
    "movie_df.head()"
   ]
  },
  {
   "cell_type": "markdown",
   "metadata": {},
   "source": [
    "## DATA VISUALIZATION"
   ]
  },
  {
   "cell_type": "markdown",
   "metadata": {},
   "source": [
    "Recall we imported **seaborn as sns** <br>"
   ]
  },
  {
   "cell_type": "markdown",
   "metadata": {},
   "source": [
    "**sns.boxplot()** creates a box plot <br>\n",
    "\n",
    "### Task 14:\n",
    "Instructions: <br>\n",
    "Create a boxplot passing **y = movie_df [ 'min' ]** as the argument"
   ]
  },
  {
   "cell_type": "code",
   "execution_count": null,
   "metadata": {},
   "outputs": [],
   "source": [
    "sns.____(y = movie_df['min']); # use seaborn to make a box plot"
   ]
  },
  {
   "cell_type": "code",
   "execution_count": null,
   "metadata": {},
   "outputs": [],
   "source": [
    "plt.figure(figsize = (5,7)) # specify the plot size\n",
    "sns.boxplot(y = movie_df['min']); # use seaborn to make a box plot"
   ]
  },
  {
   "cell_type": "code",
   "execution_count": null,
   "metadata": {},
   "outputs": [],
   "source": [
    "plt.figure(figsize = (8,5))\n",
    "sns.histplot(x = movie_df['min']);"
   ]
  },
  {
   "cell_type": "markdown",
   "metadata": {},
   "source": [
    "## TASK: Do the same for TV shows"
   ]
  },
  {
   "cell_type": "code",
   "execution_count": null,
   "metadata": {},
   "outputs": [],
   "source": [
    "tv_show_df = df[df['type'] == 'TV Show'].copy() # create a copy of the dataframe with only TV shows\n",
    "tv_show_df.head()"
   ]
  },
  {
   "cell_type": "code",
   "execution_count": null,
   "metadata": {},
   "outputs": [],
   "source": [
    "tv_show_df['season'] =  [tv_show_df['duration'][row].split(' ')[0] for row in tv_show_df.index]\n",
    "# for further info look up list comprehension\n",
    "tv_show_df.head()"
   ]
  },
  {
   "cell_type": "code",
   "execution_count": null,
   "metadata": {},
   "outputs": [],
   "source": [
    "tv_show_df['season'] = pd.to_numeric(tv_show_df['season']) # convert the data type to numeric"
   ]
  },
  {
   "cell_type": "code",
   "execution_count": null,
   "metadata": {},
   "outputs": [],
   "source": [
    "***In-depth***: <br>\n",
    "Try to create a hour column\n",
    "\n",
    "tv_show_df['hour'] = round(tv_show_df['min']/60 , 2) # round () rounds the decimal points\n",
    "\n",
    "tv_show_df.head()"
   ]
  },
  {
   "cell_type": "code",
   "execution_count": null,
   "metadata": {},
   "outputs": [],
   "source": [
    "sns.boxplot(y = tv_show_df['min']); # use seaborn to make a box plot"
   ]
  },
  {
   "cell_type": "code",
   "execution_count": null,
   "metadata": {},
   "outputs": [],
   "source": [
    "plt.figure(figsize = (5,7)) # specify the plot size\n",
    "sns.boxplot(y = tv_show_df['min']); # use seaborn to make a box plot"
   ]
  },
  {
   "cell_type": "code",
   "execution_count": null,
   "metadata": {},
   "outputs": [],
   "source": [
    "plt.figure(figsize = (8,5))\n",
    "sns.histplot(x = tv_show_df['min']);"
   ]
  },
  {
   "cell_type": "markdown",
   "metadata": {},
   "source": [
    "# 4. Some Resources"
   ]
  },
  {
   "cell_type": "markdown",
   "metadata": {},
   "source": [
    "### GITHUB STUDENT DEVELOPER PACK\n",
    "link = https://education.github.com/pack\n",
    "* datacamp : Free 3-month subscription\n",
    "* educative : Free 6-month subscription"
   ]
  },
  {
   "cell_type": "markdown",
   "metadata": {},
   "source": [
    "Blogs/ LinkedIn pages to follow:\n",
    "* Medium\n",
    "* Towards Data Science (Part of Medium)\n",
    "* Analyticsvidhya\n",
    "* RealPython\n",
    "\n",
    "Podcasts:\n",
    "* DataFramed by DataCamp: discontinued now, but all the past shows are awesome\n",
    "* Artists of Data Science: They host office open office hours every Sunday and Friday\n",
    "\n",
    "Useful Websites:\n",
    "* Kaggle.com : They host Machine Learning Competitions\n",
    "\n",
    "Other Resources:\n",
    "* Cuny Tech Prep: They have a free program for cuny students in Web-Development and Data Science tracks"
   ]
  },
  {
   "cell_type": "markdown",
   "metadata": {},
   "source": [
    "# MORE WORKSHOPS TO COME . . ."
   ]
  },
  {
   "cell_type": "markdown",
   "metadata": {},
   "source": [
    "### My LinkedIn\n",
    "link = https://www.linkedin.com/in/tashitgurung/"
   ]
  },
  {
   "cell_type": "markdown",
   "metadata": {},
   "source": [
    "**CONNECT WITH ME <br>\n",
    "Make sure to mention this workshop in the note**"
   ]
  },
  {
   "cell_type": "code",
   "execution_count": null,
   "metadata": {},
   "outputs": [],
   "source": []
  }
 ],
 "metadata": {
  "colab": {
   "collapsed_sections": [],
   "name": "Intro to Data Science w/ Python.ipynb",
   "provenance": []
  },
  "kernelspec": {
   "display_name": "Python 3",
   "language": "python",
   "name": "python3"
  },
  "language_info": {
   "codemirror_mode": {
    "name": "ipython",
    "version": 3
   },
   "file_extension": ".py",
   "mimetype": "text/x-python",
   "name": "python",
   "nbconvert_exporter": "python",
   "pygments_lexer": "ipython3",
   "version": "3.8.3"
  }
 },
 "nbformat": 4,
 "nbformat_minor": 1
}
